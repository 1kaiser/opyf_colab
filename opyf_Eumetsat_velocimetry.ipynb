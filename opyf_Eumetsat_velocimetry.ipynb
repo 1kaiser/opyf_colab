{
  "cells": [
    {
      "cell_type": "markdown",
      "metadata": {
        "id": "view-in-github",
        "colab_type": "text"
      },
      "source": [
        "<a href=\"https://colab.research.google.com/github/1kaiser/opyf_colab/blob/main/opyf_Eumetsat_velocimetry.ipynb\" target=\"_parent\"><img src=\"https://colab.research.google.com/assets/colab-badge.svg\" alt=\"Open In Colab\"/></a>"
      ]
    },
    {
      "cell_type": "code",
      "execution_count": null,
      "metadata": {
        "id": "zl3QceQ-NJql"
      },
      "outputs": [],
      "source": [
        "!pip install opyf==1.5"
      ]
    },
    {
      "cell_type": "code",
      "execution_count": null,
      "metadata": {
        "id": "WYBOz_20NPmL"
      },
      "outputs": [],
      "source": [
        "import sys\n",
        "# sys.path.append('/folder/toward/opyf') (eventually add directly the opyf package folder if not installed using pip)\n",
        "import opyf\n",
        "import matplotlib.pyplot as plt\n",
        "plt.ion()\n",
        "import os\n",
        "os.chdir(\"./\")\n",
        "\n",
        "sys.path.append('../../')\n",
        "\n",
        "plt.close('all')"
      ]
    },
    {
      "cell_type": "code",
      "execution_count": null,
      "metadata": {
        "id": "tU3dX8Q0N6dg"
      },
      "outputs": [],
      "source": [
        "!ls"
      ]
    },
    {
      "cell_type": "code",
      "source": [
        "!wget https://github.com/1kaiser/opyf_colab/releases/download/v1/Eumetsat_View_2023-09-06_05_45-2023-09-07_05_45.mp4 -O Eumetsat_View_2023-09-06_05_45-2023-09-07_05_45.mp4"
      ],
      "metadata": {
        "id": "EkCwMcdodR6m"
      },
      "execution_count": null,
      "outputs": []
    },
    {
      "cell_type": "code",
      "execution_count": null,
      "metadata": {
        "id": "-_UPf-XMNerv"
      },
      "outputs": [],
      "source": [
        "filePath = '/content/Eumetsat_View_2023-09-06_05_45-2023-09-07_05_45.mp4'"
      ]
    },
    {
      "cell_type": "markdown",
      "metadata": {
        "id": "P3pddnjoYgT_"
      },
      "source": [
        "### run"
      ]
    },
    {
      "cell_type": "code",
      "execution_count": null,
      "metadata": {
        "id": "xrUKenA2OA9g"
      },
      "outputs": [],
      "source": [
        "video = opyf.videoAnalyzer(filePath)"
      ]
    },
    {
      "cell_type": "code",
      "execution_count": null,
      "metadata": {
        "id": "JNpxmT67OQ03"
      },
      "outputs": [],
      "source": [
        "video.set_vecTime(Ntot=40, shift=1, step=2, starting_frame=2)\n",
        "print(video.vec, '\\n', video.prev)"
      ]
    },
    {
      "cell_type": "code",
      "execution_count": null,
      "metadata": {
        "id": "loJvUOpvPQls"
      },
      "outputs": [],
      "source": [
        "video.extractGoodFeaturesAndDisplacements(display='quiver', displayColor=True, width=0.002)"
      ]
    },
    {
      "cell_type": "code",
      "execution_count": null,
      "metadata": {
        "id": "O5GerRkrPoOA"
      },
      "outputs": [],
      "source": [
        "video.set_vlim([0, 30])\n",
        "video.extractGoodFeaturesAndDisplacements(display='quiver', displayColor=True, width=0.002)"
      ]
    },
    {
      "cell_type": "code",
      "execution_count": null,
      "metadata": {
        "id": "10eltlbZP4Kx"
      },
      "outputs": [],
      "source": [
        "video.set_filtersParams(wayBackGoodFlag=4, RadiusF=20,\n",
        "                        maxDevInRadius=1, CLAHE=True)"
      ]
    },
    {
      "cell_type": "code",
      "execution_count": null,
      "metadata": {
        "id": "OENmHjaNP8na"
      },
      "outputs": [],
      "source": [
        "video.set_goodFeaturesToTrackParams(maxCorners=50000, qualityLevel=0.001)"
      ]
    },
    {
      "cell_type": "code",
      "execution_count": null,
      "metadata": {
        "id": "bem6ex6MP_SR"
      },
      "outputs": [],
      "source": [
        "video.set_opticalFlowParams(maxLevel=3)"
      ]
    },
    {
      "cell_type": "code",
      "execution_count": null,
      "metadata": {
        "colab": {
          "background_save": true
        },
        "id": "vPeD4X63QCPk"
      },
      "outputs": [],
      "source": [
        "video.extractGoodFeaturesPositionsDisplacementsAndInterpolate(display='field', displayColor=True, scale=80, width=0.005)"
      ]
    },
    {
      "cell_type": "code",
      "execution_count": null,
      "metadata": {
        "id": "Ul4ty_5wQMS9"
      },
      "outputs": [],
      "source": [
        "video.set_interpolationParams(Sharpness=10, Radius=40)\n",
        "video.set_vecTime(starting_frame=20, step=2, shift=1, Ntot=10)\n",
        "video.extractGoodFeaturesDisplacementsAccumulateAndInterpolate(display1='quiver', display2='field', displayColor=True, scale=200)"
      ]
    },
    {
      "cell_type": "code",
      "execution_count": null,
      "metadata": {
        "id": "x1KJ_pTCQP3H"
      },
      "outputs": [],
      "source": [
        "video.writeVelocityField(fileFormat='csv')\n",
        "video.writeVelocityField(fileFormat='hdf5')\n",
        "# Check if the file is readable\n",
        "opyf.hdf5_Read(video.filename+'.hdf5')"
      ]
    },
    {
      "cell_type": "code",
      "execution_count": null,
      "metadata": {
        "colab": {
          "background_save": true
        },
        "id": "wiG7GIEzQYUX"
      },
      "outputs": [],
      "source": [
        "video.scaleData(framesPerSecond=25, metersPerPx=0.02,\n",
        "                unit=['m', 's'], origin=[0, video.Hvis])\n",
        "video.showXV(video.X, video.V, display='points', displayColor=True)\n",
        "Field = opyf.Render.setField(video.UxTot[0], video.UyTot[0], 'norm')\n",
        "video.opyfDisp.plotField(Field, vis=video.vis)\n",
        "video.set_vecTime(Ntot=10, shift=1, step=1, starting_frame=20)\n",
        "video.extractGoodFeaturesDisplacementsAccumulateAndInterpolate(display2='field', displayColor=True, scale=200)\n",
        "video.set_trackingFeatures(Ntot=10, step=1, starting_frame=1, track_length=5, detection_interval=10)"
      ]
    },
    {
      "cell_type": "code",
      "execution_count": null,
      "metadata": {
        "colab": {
          "background_save": true
        },
        "id": "tOJmTrX_Qgb9"
      },
      "outputs": [],
      "source": [
        "opyf.mkdir2('./export_Tracks/')\n",
        "video.set_filtersParams(wayBackGoodFlag=1, CLAHE=False)\n",
        "video.extractTracks(display='quiver', displayColor=True, saveImgPath='./export_Tracks/', numberingOutput=True)\n",
        "video.writeTracks(outFolder='./export_Tracks')"
      ]
    }
  ],
  "metadata": {
    "colab": {
      "provenance": [],
      "authorship_tag": "ABX9TyNdLvag9tM3fcRv5icxXUfu",
      "include_colab_link": true
    },
    "kernelspec": {
      "display_name": "Python 3",
      "name": "python3"
    },
    "language_info": {
      "name": "python"
    }
  },
  "nbformat": 4,
  "nbformat_minor": 0
}